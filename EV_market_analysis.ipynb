{
  "nbformat": 4,
  "nbformat_minor": 0,
  "metadata": {
    "colab": {
      "provenance": [],
      "authorship_tag": "ABX9TyOwchVzihlS3jeyv1sGXWRv",
      "include_colab_link": true
    },
    "kernelspec": {
      "name": "python3",
      "display_name": "Python 3"
    },
    "language_info": {
      "name": "python"
    }
  },
  "cells": [
    {
      "cell_type": "markdown",
      "metadata": {
        "id": "view-in-github",
        "colab_type": "text"
      },
      "source": [
        "<a href=\"https://colab.research.google.com/github/Mac1211/ML-Projects/blob/main/EV_market_analysis.ipynb\" target=\"_parent\"><img src=\"https://colab.research.google.com/assets/colab-badge.svg\" alt=\"Open In Colab\"/></a>"
      ]
    },
    {
      "cell_type": "code",
      "execution_count": null,
      "metadata": {
        "id": "V0j24QaO2ZeN"
      },
      "outputs": [],
      "source": [
        "import pandas as pd\n",
        "import numpy as np\n",
        "from sklearn.cluster import KMeans"
      ]
    },
    {
      "cell_type": "code",
      "source": [
        "# Load data\n",
        "ev_data = pd.read_csv(\"ev_market_data.csv\")"
      ],
      "metadata": {
        "id": "KNye_CWi2qFp"
      },
      "execution_count": null,
      "outputs": []
    },
    {
      "cell_type": "code",
      "source": [
        "# Data preprocessing\n",
        "ev_data = ev_data.dropna()  # Remove rows with missing values"
      ],
      "metadata": {
        "id": "yWIyDxYj2wnN"
      },
      "execution_count": null,
      "outputs": []
    },
    {
      "cell_type": "code",
      "source": [
        "# Geographic segmentation\n",
        "urban_areas = ['Delhi', 'Mumbai', 'Bengaluru', 'Chennai', 'Hyderabad']\n",
        "ev_data['urban_area'] = ev_data['city'].apply(lambda x: 1 if x in urban_areas else 0)"
      ],
      "metadata": {
        "id": "4F3DMy0B20q4"
      },
      "execution_count": null,
      "outputs": []
    },
    {
      "cell_type": "code",
      "source": [
        "# Demographic segmentation\n",
        "ev_data['high_income'] = ev_data['annual_income'].apply(lambda x: 1 if x > 1200000 else 0)\n",
        "ev_data['young_age'] = ev_data['age'].apply(lambda x: 1 if 18 <= x <= 35 else 0)"
      ],
      "metadata": {
        "id": "mIRwdnqn27Es"
      },
      "execution_count": null,
      "outputs": []
    },
    {
      "cell_type": "code",
      "source": [
        "# Psychographic segmentation\n",
        "ev_data['env_conscious'] = ev_data['env_score'].apply(lambda x: 1 if x > 4 else 0)  # Assuming env_score ranges from 1-5\n",
        "ev_data['tech_savvy'] = ev_data['tech_score'].apply(lambda x: 1 if x > 4 else 0)  # Assuming tech_score ranges from 1-5"
      ],
      "metadata": {
        "id": "lgRajNtg2_wN"
      },
      "execution_count": null,
      "outputs": []
    },
    {
      "cell_type": "code",
      "source": [
        "# Behavioral segmentation\n",
        "ev_data['daily_commute'] = ev_data['commute_distance'].apply(lambda x: 1 if x < 100 else 0)  # Assuming commute distance in km\n",
        "ev_data['home_charging'] = ev_data['has_home_charging'].apply(lambda x: 1 if x == 1 else 0)"
      ],
      "metadata": {
        "id": "aVoMpmyh3GOH"
      },
      "execution_count": null,
      "outputs": []
    },
    {
      "cell_type": "code",
      "source": [
        "# Industry/Commercial segmentation\n",
        "ev_data['commercial_usage'] = ev_data['vehicle_purpose'].apply(lambda x: 1 if x == 'commercial' else 0)"
      ],
      "metadata": {
        "id": "XzA1gCOV3REL"
      },
      "execution_count": null,
      "outputs": []
    },
    {
      "cell_type": "code",
      "source": [
        "# Clustering\n",
        "X = ev_data[['env_conscious', 'tech_savvy', 'daily_commute', 'home_charging', 'commercial_usage']]\n",
        "kmeans = KMeans(n_clusters=3, random_state=0).fit(X)\n",
        "ev_data['cluster'] = kmeans.labels_"
      ],
      "metadata": {
        "id": "gmFkd8WS3TbR"
      },
      "execution_count": null,
      "outputs": []
    },
    {
      "cell_type": "code",
      "source": [
        "# Analyze clusters\n",
        "cluster_analysis = ev_data.groupby('cluster').mean()\n",
        "print(cluster_analysis)"
      ],
      "metadata": {
        "id": "WDscjRLx3Xe7"
      },
      "execution_count": null,
      "outputs": []
    },
    {
      "cell_type": "code",
      "source": [
        "# Identify potential target segments\n",
        "target_segments = ev_data[(ev_data['urban_area'] == 1) &\n",
        "                           (ev_data['high_income'] == 1) &\n",
        "                           (ev_data['young_age'] == 1) &\n",
        "                           (ev_data['env_conscious'] == 1) &\n",
        "                           (ev_data['tech_savvy'] == 1) &\n",
        "                           (ev_data['daily_commute'] == 1) &\n",
        "                           (ev_data['home_charging'] == 1) &\n",
        "                           (ev_data['commercial_usage'] == 0)]"
      ],
      "metadata": {
        "id": "THHhpUTU3gtw"
      },
      "execution_count": null,
      "outputs": []
    },
    {
      "cell_type": "code",
      "source": [
        "print(f\"Potential target segment size: {len(target_segments)}\")"
      ],
      "metadata": {
        "id": "jCHl1pH23kEK"
      },
      "execution_count": null,
      "outputs": []
    }
  ]
}